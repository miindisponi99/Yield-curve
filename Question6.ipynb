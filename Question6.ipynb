{
 "cells": [
  {
   "cell_type": "markdown",
   "id": "df49b6c6",
   "metadata": {},
   "source": [
    "# Question 6"
   ]
  },
  {
   "cell_type": "markdown",
   "id": "c44112b2",
   "metadata": {},
   "source": [
    "Importing numpy to do basic numerical operation and matplotlib to create and manipulate plots"
   ]
  },
  {
   "cell_type": "code",
   "execution_count": 1,
   "id": "217c0b5d",
   "metadata": {},
   "outputs": [],
   "source": [
    "import numpy as np\n",
    "import matplotlib.pyplot as plt\n",
    "\n",
    "plt.style.use(\"ggplot\") #GG plot style"
   ]
  },
  {
   "cell_type": "markdown",
   "id": "466a4123",
   "metadata": {},
   "source": [
    "Creating a Class with functions to: generate cash flow times, compute full price from the yield, compute clean price from the yield, compute the accrued interest, compute the duration."
   ]
  },
  {
   "cell_type": "code",
   "execution_count": 2,
   "id": "146f0263",
   "metadata": {},
   "outputs": [],
   "source": [
    "class Bond(object):\n",
    "    def __init__(self, maturity, coupon, frequency):\n",
    "        self._maturity = maturity\n",
    "        self._coupon = coupon\n",
    "        self._frequency = frequency\n",
    "        \n",
    "    def flowTimes(self):\n",
    "        \"\"\"\n",
    "        Generates cash flow times\n",
    "        \"\"\"\n",
    "        small = 1e-10\n",
    "        numPaymentsMinusOne = int(self._maturity * self._frequency - small)\n",
    "        firstPayment = self._maturity - numPaymentsMinusOne / self._frequency\n",
    "        return np.linspace(firstPayment,self._maturity,numPaymentsMinusOne+1)\n",
    "    \n",
    "    def fullPriceFromYield(self, y):\n",
    "        \"\"\"\n",
    "        Computes dirty price of the bond from the yield\n",
    "        \"\"\"\n",
    "        paymentTimes = Bond.flowTimes(self)\n",
    "        price = 0.0\n",
    "        for t in paymentTimes:\n",
    "            df = 1.0/(1.0 + y/self._frequency)**(t*self._frequency)\n",
    "            price += (self._coupon / self._frequency ) * df\n",
    "        price += df\n",
    "        return price\n",
    "    \n",
    "    def cleanPriceFromYield(self, y):\n",
    "        \"\"\"\n",
    "        Computes clean price of the bond from the yield\n",
    "        \"\"\"\n",
    "        cleanPrice = self.fullPriceFromYield(y) - self.accrued()\n",
    "        return cleanPrice\n",
    "    \n",
    "    def accrued(self):\n",
    "        \"\"\"\n",
    "        Computes accrued interest of the bond\n",
    "        \"\"\"\n",
    "        paymentTimes = self.flowTimes()\n",
    "        accruedPeriod = 1.0/self._frequency - paymentTimes[0]\n",
    "        return accruedPeriod * self._coupon\n",
    "    \n",
    "    def duration(self, y):\n",
    "        \"\"\"\n",
    "        Computes duration of the bond\n",
    "        \"\"\"\n",
    "        paymentTimes = self.flowTimes()\n",
    "        price = 0.0; df = 1.0; fv = 1.0\n",
    "        weights = [] #Creating an empty list\n",
    "        for t in paymentTimes:\n",
    "            df = 1.0/(1.0 + y/self._frequency)**(t*self._frequency)\n",
    "            if t == paymentTimes[-1]: #If in the last period, computing the face value + the coupon\n",
    "                weight = (fv + self._coupon / self._frequency ) * df / Bond.fullPriceFromYield(self,y)\n",
    "            else: #Otherwise computing only for the coupon\n",
    "                weight = (self._coupon / self._frequency ) * df / Bond.fullPriceFromYield(self,y)\n",
    "            weights.append(weight * t) #Appending the values to the weight list\n",
    "        return np.sum(weights) #Summing the values in the list\n",
    "\n",
    "#Attributing values to the variables\n",
    "maturity = 10.2\n",
    "coupon = 0.05\n",
    "frequency = 2.0\n",
    "bond = Bond(maturity,coupon, frequency)\n",
    "y = 0.05"
   ]
  },
  {
   "cell_type": "code",
   "execution_count": 3,
   "id": "6d28e578",
   "metadata": {},
   "outputs": [
    {
     "data": {
      "text/plain": [
       "1.0149258620941133"
      ]
     },
     "execution_count": 3,
     "metadata": {},
     "output_type": "execute_result"
    }
   ],
   "source": [
    "bond.fullPriceFromYield(y) #Showing the full price"
   ]
  },
  {
   "cell_type": "code",
   "execution_count": 4,
   "id": "8f7eb6f9",
   "metadata": {},
   "outputs": [
    {
     "ename": "NameError",
     "evalue": "name 'self' is not defined",
     "output_type": "error",
     "traceback": [
      "\u001b[0;31m---------------------------------------------------------------------------\u001b[0m",
      "\u001b[0;31mNameError\u001b[0m                                 Traceback (most recent call last)",
      "Cell \u001b[0;32mIn[4], line 1\u001b[0m\n\u001b[0;32m----> 1\u001b[0m Bond\u001b[38;5;241m.\u001b[39mfullPriceFromYield(\u001b[38;5;28;43mself\u001b[39;49m)\n",
      "\u001b[0;31mNameError\u001b[0m: name 'self' is not defined"
     ]
    }
   ],
   "source": [
    "Bond.fullPriceFromYield(self)"
   ]
  },
  {
   "cell_type": "code",
   "execution_count": 5,
   "id": "ae3ccac9",
   "metadata": {},
   "outputs": [
    {
     "data": {
      "text/plain": [
       "7.994581142823405"
      ]
     },
     "execution_count": 5,
     "metadata": {},
     "output_type": "execute_result"
    }
   ],
   "source": [
    "bond.duration(y) #Showing the duration"
   ]
  },
  {
   "cell_type": "code",
   "execution_count": 6,
   "id": "8e8a4df8",
   "metadata": {},
   "outputs": [
    {
     "data": {
      "text/plain": [
       "0.015000000000000036"
      ]
     },
     "execution_count": 6,
     "metadata": {},
     "output_type": "execute_result"
    }
   ],
   "source": [
    "bond.accrued() #Showing the accrued interest"
   ]
  },
  {
   "cell_type": "markdown",
   "id": "d9cdb614",
   "metadata": {},
   "source": [
    "Creating a price-yield plot using the Bond Class (with Yields on the x-axis, \n",
    "Prices on the y-axis) for yields ranging from 0 to 20%.\n",
    "Then Labeling the axes and giving the graph a title."
   ]
  },
  {
   "cell_type": "code",
   "execution_count": null,
   "id": "3f8f4f1d",
   "metadata": {},
   "outputs": [],
   "source": [
    "maxYield = 21 #Setting a maximum value\n",
    "yieldCurve = [bond.fullPriceFromYield(i/100) for i in range(maxYield)]\n",
    "#This List comprehension code makes in a single line the operation in comments put below\n",
    "\n",
    "#yieldCurve = []\n",
    "#for i in range(maxYield): \n",
    "#    yields= i/100\n",
    "#    yieldCurves = bond.fullPriceFromYield(yields)\n",
    "#    yieldCurve.append(yieldCurves)\n",
    "\n",
    "plt.figure(figsize=(12, 6)) #Sizing the plot\n",
    "plt.plot(yieldCurve, \"o-\") #Selecting marker\n",
    "plt.xlabel(\"Yield\", size = 14) #Labeling X axis\n",
    "plt.ylabel(\"Price\", size = 14) #Labeling Y axis\n",
    "plt.title(\"Relationship between Yields and Prices\", size = 20); #Titling the graph"
   ]
  },
  {
   "cell_type": "markdown",
   "id": "d629efb8",
   "metadata": {},
   "source": [
    "Creating the same plot using vectorization"
   ]
  },
  {
   "cell_type": "code",
   "execution_count": null,
   "id": "f2d07066",
   "metadata": {},
   "outputs": [],
   "source": [
    "def fitAndPlot(y, price,d):\n",
    "    \"\"\"\n",
    "    Polynomial function for the relationship between yield and price\n",
    "    \"\"\"\n",
    "    coeffs = np.polyfit(y, price, deg=d)            \n",
    "    ry = np.polyval(coeffs, y)                 \n",
    "    \n",
    "    plt.figure(figsize=(12, 6)) #Sizing the plot\n",
    "    plt.plot(y, price, 'o-') #Selecting marker\n",
    "    plt.plot(y, ry, 'r') #Select red colour\n",
    "    plt.xlabel(\"Yield\", size = 14) #Labeling X axis\n",
    "    plt.ylabel(\"Price\", size = 14) #Labeling Y axis\n",
    "    plt.title(\"Relationship between Yields and Prices\", size = 20); #Titling the graph\n",
    "    \n",
    "yields = np.linspace(0.0,20,20, endpoint = True)/100 #Array of 20 equally spaced points between 0 and 20% \n",
    "fitAndPlot(yields*100, bond.fullPriceFromYield(yields), 3) #Showing the plot"
   ]
  }
 ],
 "metadata": {
  "kernelspec": {
   "display_name": "Python 3 (ipykernel)",
   "language": "python",
   "name": "python3"
  },
  "language_info": {
   "codemirror_mode": {
    "name": "ipython",
    "version": 3
   },
   "file_extension": ".py",
   "mimetype": "text/x-python",
   "name": "python",
   "nbconvert_exporter": "python",
   "pygments_lexer": "ipython3",
   "version": "3.10.9"
  }
 },
 "nbformat": 4,
 "nbformat_minor": 5
}
